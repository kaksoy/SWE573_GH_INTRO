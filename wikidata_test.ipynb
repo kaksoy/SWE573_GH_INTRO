{
 "cells": [
  {
   "cell_type": "code",
   "execution_count": 45,
   "metadata": {},
   "outputs": [],
   "source": [
    "API_ADDRESS = \"https://www.wikidata.org/w/api.php\""
   ]
  },
  {
   "cell_type": "code",
   "execution_count": 46,
   "metadata": {},
   "outputs": [],
   "source": [
    "query='niagara'"
   ]
  },
  {
   "cell_type": "code",
   "execution_count": 47,
   "metadata": {},
   "outputs": [],
   "source": [
    "params = {\n",
    "    'action' : \"wbsearchentities\", \n",
    "    'format' : \"json\",\n",
    "    'language' : 'en',\n",
    "    'search' : \"query\"\n",
    "}"
   ]
  },
  {
   "cell_type": "code",
   "execution_count": 48,
   "metadata": {},
   "outputs": [],
   "source": [
    "import requests"
   ]
  },
  {
   "cell_type": "code",
   "execution_count": 49,
   "metadata": {},
   "outputs": [
    {
     "data": {
      "text/plain": [
       "{'searchinfo': {'search': 'query'},\n",
       " 'search': [{'repository': 'local',\n",
       "   'id': 'Q11169',\n",
       "   'concepturi': 'http://www.wikidata.org/entity/Q11169',\n",
       "   'title': 'Q11169',\n",
       "   'pageid': 12658,\n",
       "   'url': '//www.wikidata.org/wiki/Q11169',\n",
       "   'label': 'question mark',\n",
       "   'description': 'typographic character indicating a question',\n",
       "   'match': {'type': 'alias', 'language': 'en', 'text': 'query'},\n",
       "   'aliases': ['query']},\n",
       "  {'repository': 'local',\n",
       "   'id': 'Q3428776',\n",
       "   'concepturi': 'http://www.wikidata.org/entity/Q3428776',\n",
       "   'title': 'Q3428776',\n",
       "   'pageid': 3266657,\n",
       "   'url': '//www.wikidata.org/wiki/Q3428776',\n",
       "   'label': 'query',\n",
       "   'description': 'precise request for information retrieval',\n",
       "   'match': {'type': 'label', 'language': 'en', 'text': 'query'}},\n",
       "  {'repository': 'local',\n",
       "   'id': 'Q7385',\n",
       "   'concepturi': 'http://www.wikidata.org/entity/Q7385',\n",
       "   'title': 'Q7385',\n",
       "   'pageid': 8609,\n",
       "   'url': '//www.wikidata.org/wiki/Q7385',\n",
       "   'label': 'Query',\n",
       "   'description': 'Wikimedia disambiguation page',\n",
       "   'match': {'type': 'label', 'language': 'en', 'text': 'Query'}},\n",
       "  {'repository': 'local',\n",
       "   'id': 'Q37165442',\n",
       "   'concepturi': 'http://www.wikidata.org/entity/Q37165442',\n",
       "   'title': 'Q37165442',\n",
       "   'pageid': 38543878,\n",
       "   'url': '//www.wikidata.org/wiki/Q37165442',\n",
       "   'label': 'Query',\n",
       "   'description': 'family name',\n",
       "   'match': {'type': 'label', 'language': 'en', 'text': 'Query'}},\n",
       "  {'repository': 'local',\n",
       "   'id': 'Q18615446',\n",
       "   'concepturi': 'http://www.wikidata.org/entity/Q18615446',\n",
       "   'title': 'Q18615446',\n",
       "   'pageid': 20147216,\n",
       "   'url': '//www.wikidata.org/wiki/Q18615446',\n",
       "   'label': 'Query',\n",
       "   'description': '1409th strip of the webcomic xkcd',\n",
       "   'match': {'type': 'label', 'language': 'en', 'text': 'Query'}},\n",
       "  {'repository': 'local',\n",
       "   'id': 'Q7271381',\n",
       "   'concepturi': 'http://www.wikidata.org/entity/Q7271381',\n",
       "   'title': 'Q7271381',\n",
       "   'pageid': 7175373,\n",
       "   'url': '//www.wikidata.org/wiki/Q7271381',\n",
       "   'label': 'Query',\n",
       "   'match': {'type': 'label', 'language': 'en', 'text': 'Query'}},\n",
       "  {'repository': 'local',\n",
       "   'id': 'Q7271380',\n",
       "   'concepturi': 'http://www.wikidata.org/entity/Q7271380',\n",
       "   'title': 'Q7271380',\n",
       "   'pageid': 7175372,\n",
       "   'url': '//www.wikidata.org/wiki/Q7271380',\n",
       "   'label': 'Query',\n",
       "   'match': {'type': 'label', 'language': 'en', 'text': 'Query'}}],\n",
       " 'search-continue': 7,\n",
       " 'success': 1}"
      ]
     },
     "execution_count": 49,
     "metadata": {},
     "output_type": "execute_result"
    }
   ],
   "source": [
    "r = requests.get(API_ADDRESS, params=params)\n",
    "r.json()"
   ]
  },
  {
   "cell_type": "code",
   "execution_count": 34,
   "metadata": {},
   "outputs": [
    {
     "data": {
      "text/plain": [
       "{'error': {'code': 'unknown_action',\n",
       "  'info': 'Unrecognized value for parameter \"action\": wbsearchentities.',\n",
       "  '*': 'See https://en.wikipedia.org/w/api.php for API usage. Subscribe to the mediawiki-api-announce mailing list at &lt;https://lists.wikimedia.org/mailman/listinfo/mediawiki-api-announce&gt; for notice of API deprecations and breaking changes.'},\n",
       " 'servedby': 'mw1313'}"
      ]
     },
     "execution_count": 34,
     "metadata": {},
     "output_type": "execute_result"
    }
   ],
   "source": []
  },
  {
   "cell_type": "code",
   "execution_count": null,
   "metadata": {},
   "outputs": [],
   "source": []
  }
 ],
 "metadata": {
  "kernelspec": {
   "display_name": "Python 3",
   "language": "python",
   "name": "python3"
  },
  "language_info": {
   "codemirror_mode": {
    "name": "ipython",
    "version": 3
   },
   "file_extension": ".py",
   "mimetype": "text/x-python",
   "name": "python",
   "nbconvert_exporter": "python",
   "pygments_lexer": "ipython3",
   "version": "3.7.3"
  }
 },
 "nbformat": 4,
 "nbformat_minor": 2
}
